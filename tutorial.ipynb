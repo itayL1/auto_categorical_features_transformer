{
 "cells": [
  {
   "cell_type": "code",
   "execution_count": 1,
   "id": "f7e37236",
   "metadata": {
    "scrolled": true
   },
   "outputs": [],
   "source": [
    "import warnings\n",
    "\n",
    "import pandas as pd\n",
    "\n",
    "from auto_categorical_features_transformer import create_categorical_feature_transformations_report, CategoricalTransformationMethods"
   ]
  },
  {
   "cell_type": "code",
   "execution_count": 2,
   "id": "348ec356",
   "metadata": {
    "scrolled": true
   },
   "outputs": [],
   "source": [
    "warnings.filterwarnings(\"ignore\")"
   ]
  },
  {
   "cell_type": "code",
   "execution_count": 3,
   "id": "7662042f",
   "metadata": {
    "scrolled": true
   },
   "outputs": [],
   "source": [
    "def _load_titanic_dataset():\n",
    "    titanic_dataset_df = pd.read_csv('./datasets/titanic/train.csv')\n",
    "\n",
    "    y = titanic_dataset_df['Survived']\n",
    "    X = titanic_dataset_df.drop(columns=['Survived'])\n",
    "    return X, y"
   ]
  },
  {
   "cell_type": "code",
   "execution_count": 4,
   "id": "7e0574c4",
   "metadata": {},
   "outputs": [],
   "source": [
    "X, y = _load_titanic_dataset()"
   ]
  },
  {
   "cell_type": "code",
   "execution_count": 5,
   "id": "d584d4a1",
   "metadata": {},
   "outputs": [
    {
     "name": "stderr",
     "output_type": "stream",
     "text": [
      "transformations evaluation: 100%|██████████████████████████████████████████████████████████████████████| 32/32 [00:10<00:00,  3.14it/s]\n"
     ]
    },
    {
     "data": {
      "text/html": [
       "<style>\n",
       "  #dp-3be81163e4d3434f920d6fc1ad5f1f8b {\n",
       "    width: 1px;\n",
       "    min-width: 100%;\n",
       "  }\n",
       "</style>\n",
       "<script src=\"https://cdnjs.cloudflare.com/ajax/libs/iframe-resizer/4.3.2/iframeResizer.min.js\" integrity=\"sha512-dnvR4Aebv5bAtJxDunq3eE8puKAJrY9GBJYl9GC6lTOEC76s1dbDfJFcL9GyzpaDW4vlI/UjR8sKbc1j6Ynx6w==\" crossorigin=\"anonymous\" referrerpolicy=\"no-referrer\"></script>\n",
       "<iframe id=\"dp-3be81163e4d3434f920d6fc1ad5f1f8b\" srcdoc=\"&lt;!DOCTYPE html&gt;\n",
       "&lt;html lang=&#34;en&#34;&gt;\n",
       "  &lt;head&gt;\n",
       "    &lt;meta charset=&#34;UTF-8&#34; /&gt;\n",
       "    &lt;script src=&#34;https://kit.fontawesome.com/256c714d9a.js&#34;&gt;&lt;/script&gt;\n",
       "    &lt;link\n",
       "      href=&#34;https://fonts.googleapis.com/css?family=Inter:400,500,600,700|Inconsolata|Karla|Rubik&amp;display=swap&#34;\n",
       "      rel=&#34;stylesheet&#34;\n",
       "    /&gt;\n",
       "    &lt;script&gt;\n",
       "      window.dpLocal = true;\n",
       "      \n",
       "        window.dpLocalViewEvent = true;\n",
       "        window.dpReportId = &#34;3be81163e4d3434f920d6fc1ad5f1f8b&#34;;\n",
       "        window.dpAuthorId = &#34;eb2f48ae07524d609bed839239124dfe&#34;;\n",
       "      \n",
       "    &lt;/script&gt;\n",
       "    \n",
       "      &lt;link rel=&#34;stylesheet&#34; href=&#34;https://datapane-cdn.com/v0.15.7/local-report/local-report-base.css&#34;&gt;\n",
       "    \n",
       "    &lt;script&gt;\n",
       "      const report = { document: &#34;\\u003cReport version=\\&#34;1\\&#34;\\u003e\\u003cMeta\\u003e\\u003cAuthor\\u003eAnonymous\\u003c/Author\\u003e\\u003cCreatedOn\\u003e2023-02-25T19:07:44Z\\u003c/CreatedOn\\u003e\\u003cTitle\\u003eStringified App\\u003c/Title\\u003e\\u003cDescription\\u003e\\u003c![CDATA[Description]]\\u003e\\u003c/Description\\u003e\\u003c/Meta\\u003e\\u003cInternal/\\u003e\\u003cPages\\u003e\\u003cPage\\u003e\\u003cDataTable type=\\&#34;application/vnd.apache.arrow+binary\\&#34; size=\\&#34;5594\\&#34; uploaded_filename=\\&#34;dp-tmp-1cg0zbgh.arrow\\&#34; rows=\\&#34;32\\&#34; columns=\\&#34;5\\&#34; schema=\\&#34;[]\\&#34; src=\\&#34;data:application/vnd.apache.arrow+binary;base64,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\\&#34;/\\u003e\\u003c/Page\\u003e\\u003c/Pages\\u003e\\u003c/Report\\u003e&#34;, width: &#34;&#34;, output_is_light_prose: false };\n",
       "      const htmlHeader = `&lt;style type=&#34;text/css&#34;&gt;:root {\n",
       "    --dp-accent-color: #4E46E5;\n",
       "    --dp-bg-color: #FFF;\n",
       "    --dp-text-align: justify;\n",
       "    --dp-font-family: Inter var, ui-sans-serif, system-ui;\n",
       "}&lt;/style&gt;`;\n",
       "      window.reportProps = { report, htmlHeader };\n",
       "    &lt;/script&gt;\n",
       "    \n",
       "      &lt;script type=&#34;module&#34;&gt;\n",
       "        import { mountReport } from &#34;https://datapane-cdn.com/v0.15.7/report/index.es.js&#34;;\n",
       "        mountReport(window.reportProps);\n",
       "      &lt;/script&gt;\n",
       "    \n",
       "  &lt;/head&gt;\n",
       "  &lt;body&gt;\n",
       "    &lt;main class=&#34;max-w-screen-xl w-full mx-auto&#34;&gt;\n",
       "      &lt;div id=&#34;report&#34; class=&#34;w-full&#34;&gt;&lt;/div&gt;\n",
       "    &lt;/main&gt;\n",
       "    &lt;script src=&#34;https://cdnjs.cloudflare.com/ajax/libs/iframe-resizer/4.3.2/iframeResizer.contentWindow.min.js&#34; integrity=&#34;sha512-14SY6teTzhrLWeL55Q4uCyxr6GQOxF3pEoMxo2mBxXwPRikdMtzKMYWy2B5Lqjr6PHHoGOxZgPaxUYKQrSmu0A==&#34; crossorigin=&#34;anonymous&#34; referrerpolicy=&#34;no-referrer&#34;&gt;&lt;/script&gt;  &lt;/body&gt;\n",
       "&lt;/html&gt;\" style=\"border:none;\"></iframe>\n",
       "<script>\n",
       "  iFrameResize({ log: true, checkOrigin: false }, '#dp-3be81163e4d3434f920d6fc1ad5f1f8b')\n",
       "</script>"
      ],
      "text/plain": [
       "<IPython.core.display.HTML object>"
      ]
     },
     "metadata": {},
     "output_type": "display_data"
    }
   ],
   "source": [
    "results = create_categorical_feature_transformations_report(\n",
    "    X, y,\n",
    "    transformation_method=CategoricalTransformationMethods.OneHot,\n",
    "    return_rich_table=True\n",
    ")\n",
    "results.summary_table"
   ]
  }
 ],
 "metadata": {
  "kernelspec": {
   "display_name": "base",
   "language": "python",
   "name": "python3"
  },
  "language_info": {
   "codemirror_mode": {
    "name": "ipython",
    "version": 3
   },
   "file_extension": ".py",
   "mimetype": "text/x-python",
   "name": "python",
   "nbconvert_exporter": "python",
   "pygments_lexer": "ipython3",
   "version": "3.8.13"
  },
  "vscode": {
   "interpreter": {
    "hash": "d4d1e4263499bec80672ea0156c357c1ee493ec2b1c70f0acce89fc37c4a6abe"
   }
  }
 },
 "nbformat": 4,
 "nbformat_minor": 5
}
