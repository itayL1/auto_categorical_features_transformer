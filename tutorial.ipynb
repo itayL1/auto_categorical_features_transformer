{
 "cells": [
  {
   "cell_type": "code",
   "execution_count": 1,
   "id": "f7e37236",
   "metadata": {
    "scrolled": true
   },
   "outputs": [],
   "source": [
    "import warnings\n",
    "\n",
    "import pandas as pd\n",
    "\n",
    "from auto_categorical_features_transformer import create_categorical_feature_transformations_report, CategoricalTransformationMethods"
   ]
  },
  {
   "cell_type": "code",
   "execution_count": 2,
   "id": "348ec356",
   "metadata": {
    "scrolled": true
   },
   "outputs": [],
   "source": [
    "warnings.filterwarnings(\"ignore\")"
   ]
  },
  {
   "cell_type": "code",
   "execution_count": 3,
   "id": "7662042f",
   "metadata": {
    "scrolled": true
   },
   "outputs": [],
   "source": [
    "def _load_titanic_dataset():\n",
    "    titanic_dataset_df = pd.read_csv('./datasets/titanic/train.csv')\n",
    "\n",
    "    y = titanic_dataset_df['Survived']\n",
    "    X = titanic_dataset_df.drop(columns=['Survived'])\n",
    "    return X, y"
   ]
  },
  {
   "cell_type": "code",
   "execution_count": 4,
   "id": "7e0574c4",
   "metadata": {},
   "outputs": [],
   "source": [
    "X, y = _load_titanic_dataset()"
   ]
  },
  {
   "cell_type": "code",
   "execution_count": 5,
   "id": "d584d4a1",
   "metadata": {
    "scrolled": false
   },
   "outputs": [
    {
     "name": "stderr",
     "output_type": "stream",
     "text": [
      "transformations evaluation: 100%|██████████████████████████████████████████████████████| 32/32 [00:08<00:00,  3.64it/s]\n"
     ]
    }
   ],
   "source": [
    "results = create_categorical_feature_transformations_report(\n",
    "    X, y,\n",
    "    transformation_method=CategoricalTransformationMethods.OneHot,\n",
    "    return_rich_table=True\n",
    ")"
   ]
  },
  {
   "cell_type": "code",
   "execution_count": 6,
   "id": "3d278e19",
   "metadata": {
    "scrolled": true
   },
   "outputs": [
    {
     "data": {
      "text/html": [
       "<style>\n",
       "  #dp-4cb9b325323e44c0b8cbdf02087a4a38 {\n",
       "    width: 1px;\n",
       "    min-width: 100%;\n",
       "  }\n",
       "</style>\n",
       "<script src=\"https://cdnjs.cloudflare.com/ajax/libs/iframe-resizer/4.3.2/iframeResizer.min.js\" integrity=\"sha512-dnvR4Aebv5bAtJxDunq3eE8puKAJrY9GBJYl9GC6lTOEC76s1dbDfJFcL9GyzpaDW4vlI/UjR8sKbc1j6Ynx6w==\" crossorigin=\"anonymous\" referrerpolicy=\"no-referrer\"></script>\n",
       "<iframe id=\"dp-4cb9b325323e44c0b8cbdf02087a4a38\" srcdoc=\"&lt;!DOCTYPE html&gt;\n",
       "&lt;html lang=&#34;en&#34;&gt;\n",
       "  &lt;head&gt;\n",
       "    &lt;meta charset=&#34;UTF-8&#34; /&gt;\n",
       "    &lt;script src=&#34;https://kit.fontawesome.com/256c714d9a.js&#34;&gt;&lt;/script&gt;\n",
       "    &lt;link\n",
       "      href=&#34;https://fonts.googleapis.com/css?family=Inter:400,500,600,700|Inconsolata|Karla|Rubik&amp;display=swap&#34;\n",
       "      rel=&#34;stylesheet&#34;\n",
       "    /&gt;\n",
       "    &lt;script&gt;\n",
       "      window.dpLocal = true;\n",
       "      \n",
       "        window.dpLocalViewEvent = true;\n",
       "        window.dpReportId = &#34;4cb9b325323e44c0b8cbdf02087a4a38&#34;;\n",
       "        window.dpAuthorId = &#34;eb2f48ae07524d609bed839239124dfe&#34;;\n",
       "      \n",
       "    &lt;/script&gt;\n",
       "    \n",
       "      &lt;link rel=&#34;stylesheet&#34; href=&#34;https://datapane-cdn.com/v0.15.7/local-report/local-report-base.css&#34;&gt;\n",
       "    \n",
       "    &lt;script&gt;\n",
       "      const report = { document: &#34;\\u003cReport version=\\&#34;1\\&#34;\\u003e\\u003cMeta\\u003e\\u003cAuthor\\u003eAnonymous\\u003c/Author\\u003e\\u003cCreatedOn\\u003e2023-02-27T18:38:06Z\\u003c/CreatedOn\\u003e\\u003cTitle\\u003eStringified App\\u003c/Title\\u003e\\u003cDescription\\u003e\\u003c![CDATA[Description]]\\u003e\\u003c/Description\\u003e\\u003c/Meta\\u003e\\u003cInternal/\\u003e\\u003cPages\\u003e\\u003cPage\\u003e\\u003cDataTable type=\\&#34;application/vnd.apache.arrow+binary\\&#34; size=\\&#34;5402\\&#34; uploaded_filename=\\&#34;dp-tmp-qluusviv.arrow\\&#34; rows=\\&#34;32\\&#34; columns=\\&#34;5\\&#34; schema=\\&#34;[]\\&#34; src=\\&#34;data:application/vnd.apache.arrow+binary;base64,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\\&#34;/\\u003e\\u003c/Page\\u003e\\u003c/Pages\\u003e\\u003c/Report\\u003e&#34;, width: &#34;&#34;, output_is_light_prose: false };\n",
       "      const htmlHeader = `&lt;style type=&#34;text/css&#34;&gt;:root {\n",
       "    --dp-accent-color: #4E46E5;\n",
       "    --dp-bg-color: #FFF;\n",
       "    --dp-text-align: justify;\n",
       "    --dp-font-family: Inter var, ui-sans-serif, system-ui;\n",
       "}&lt;/style&gt;`;\n",
       "      window.reportProps = { report, htmlHeader };\n",
       "    &lt;/script&gt;\n",
       "    \n",
       "      &lt;script type=&#34;module&#34;&gt;\n",
       "        import { mountReport } from &#34;https://datapane-cdn.com/v0.15.7/report/index.es.js&#34;;\n",
       "        mountReport(window.reportProps);\n",
       "      &lt;/script&gt;\n",
       "    \n",
       "  &lt;/head&gt;\n",
       "  &lt;body&gt;\n",
       "    &lt;main class=&#34;max-w-screen-xl w-full mx-auto&#34;&gt;\n",
       "      &lt;div id=&#34;report&#34; class=&#34;w-full&#34;&gt;&lt;/div&gt;\n",
       "    &lt;/main&gt;\n",
       "    &lt;script src=&#34;https://cdnjs.cloudflare.com/ajax/libs/iframe-resizer/4.3.2/iframeResizer.contentWindow.min.js&#34; integrity=&#34;sha512-14SY6teTzhrLWeL55Q4uCyxr6GQOxF3pEoMxo2mBxXwPRikdMtzKMYWy2B5Lqjr6PHHoGOxZgPaxUYKQrSmu0A==&#34; crossorigin=&#34;anonymous&#34; referrerpolicy=&#34;no-referrer&#34;&gt;&lt;/script&gt;  &lt;/body&gt;\n",
       "&lt;/html&gt;\" style=\"border:none;\"></iframe>\n",
       "<script>\n",
       "  iFrameResize({ log: true, checkOrigin: false }, '#dp-4cb9b325323e44c0b8cbdf02087a4a38')\n",
       "</script>"
      ],
      "text/plain": [
       "<IPython.core.display.HTML object>"
      ]
     },
     "metadata": {},
     "output_type": "display_data"
    }
   ],
   "source": [
    "results.summary_table"
   ]
  }
 ],
 "metadata": {
  "kernelspec": {
   "display_name": "Python 3 (ipykernel)",
   "language": "python",
   "name": "python3"
  },
  "language_info": {
   "codemirror_mode": {
    "name": "ipython",
    "version": 3
   },
   "file_extension": ".py",
   "mimetype": "text/x-python",
   "name": "python",
   "nbconvert_exporter": "python",
   "pygments_lexer": "ipython3",
   "version": "3.9.6"
  },
  "vscode": {
   "interpreter": {
    "hash": "d4d1e4263499bec80672ea0156c357c1ee493ec2b1c70f0acce89fc37c4a6abe"
   }
  }
 },
 "nbformat": 4,
 "nbformat_minor": 5
}
